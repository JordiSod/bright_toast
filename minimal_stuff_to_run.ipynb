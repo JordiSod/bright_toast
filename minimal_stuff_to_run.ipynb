{
 "cells": [
  {
   "cell_type": "code",
   "execution_count": 1,
   "id": "e001a7d5",
   "metadata": {},
   "outputs": [],
   "source": [
    "import pickle"
   ]
  },
  {
   "cell_type": "code",
   "execution_count": 8,
   "id": "c1c63b11",
   "metadata": {},
   "outputs": [],
   "source": [
    "# open a file, where you stored the pickled data\n",
    "file = open('wine_word2vec_model', 'rb')\n",
    "\n",
    "# dump information to that file\n",
    "wine_word2vec_model = pickle.load(file)\n",
    "\n",
    "# close the file\n",
    "file.close()\n",
    "\n",
    "# Same for the rest of the files\n",
    "file = open('model_knn', 'rb')\n",
    "model_knn = pickle.load(file)\n",
    "file.close()\n",
    "\n",
    "file = open('dict_of_tfidf_weightings', 'rb')\n",
    "dict_of_tfidf_weightings = pickle.load(file)\n",
    "file.close()\n",
    "\n",
    "file = open('wine_reviews_mincount', 'rb')\n",
    "wine_reviews_mincount = pickle.load(file)\n",
    "file.close()"
   ]
  },
  {
   "cell_type": "code",
   "execution_count": 9,
   "id": "2cf2acb9",
   "metadata": {},
   "outputs": [],
   "source": [
    "def descriptors_to_best_match_wines(list_of_descriptors, number_of_suggestions=10):\n",
    "    weighted_review_terms = []\n",
    "    for term in list_of_descriptors:\n",
    "        if term not in dict_of_tfidf_weightings:\n",
    "            if term not in descriptor_mapping.index:\n",
    "                print('choose a different descriptor from', term)\n",
    "                continue\n",
    "            else:\n",
    "                term = descriptor_mapping['normalized'][term]\n",
    "        tfidf_weighting = dict_of_tfidf_weightings[term]\n",
    "        word_vector = wine_word2vec_model.wv.get_vector(term).reshape(1, 300)\n",
    "        weighted_word_vector = tfidf_weighting * word_vector\n",
    "        weighted_review_terms.append(weighted_word_vector)\n",
    "    review_vector = sum(weighted_review_terms)\n",
    "\n",
    "    distance, indice = model_knn.kneighbors(review_vector, n_neighbors=number_of_suggestions+1)\n",
    "    distance_list = distance[0].tolist()[1:]\n",
    "    indice_list = indice[0].tolist()[1:]\n",
    "\n",
    "    n = 1\n",
    "    for d, i in zip(distance_list, indice_list):\n",
    "        wine_name = wine_reviews_mincount['title'][i]\n",
    "        wine_descriptors = wine_reviews_mincount['normalized_descriptors'][i]\n",
    "        print('Suggestion', str(n), ':', wine_name, 'with a cosine distance of', \"{:.3f}\".format(d))\n",
    "        print('This wine has the following descriptors:', wine_descriptors)\n",
    "        print('')\n",
    "        n+=1"
   ]
  },
  {
   "cell_type": "code",
   "execution_count": 10,
   "id": "08b71021",
   "metadata": {},
   "outputs": [
    {
     "name": "stdout",
     "output_type": "stream",
     "text": [
      "Suggestion 1 : Domaine Faiveley 2011 Les Villeranges  (Rully) with a cosine distance of 0.084\n",
      "This wine has the following descriptors: ['fresh', 'fruit', 'citrus', 'pear', 'apple', 'wood', 'round']\n",
      "\n",
      "Suggestion 2 : Domaine Ostertag 2010 Barriques Pinot Blanc (Alsace) with a cosine distance of 0.088\n",
      "This wine has the following descriptors: ['oak', 'wood', 'toast', 'pear', 'honey', 'apple']\n",
      "\n",
      "Suggestion 3 : A.R. Lenoble  NV Intense Brut  (Champagne) with a cosine distance of 0.110\n",
      "This wine has the following descriptors: ['wood', 'rich', 'ripe', 'fruit', 'pear', 'crisp', 'apple', 'apricot']\n",
      "\n",
      "Suggestion 4 : Domaine de la Garenne 2008  Mâcon-Azé with a cosine distance of 0.120\n",
      "This wine has the following descriptors: ['wood', 'fruit', 'fresh', 'grapefruit', 'pear', 'bright', 'lemon', 'honey', 'wood']\n",
      "\n",
      "Suggestion 5 : Wheelhouse 2011 Chardonnay (Sonoma County) with a cosine distance of 0.126\n",
      "This wine has the following descriptors: ['ripe', 'apple', 'pear', 'tropical_fruit', 'fruit', 'oak']\n",
      "\n"
     ]
    }
   ],
   "source": [
    "descriptors = ['apple','pear','wood']\n",
    "descriptors_to_best_match_wines(list_of_descriptors=descriptors, number_of_suggestions=5)"
   ]
  },
  {
   "cell_type": "code",
   "execution_count": null,
   "id": "b706c2ec",
   "metadata": {},
   "outputs": [],
   "source": []
  }
 ],
 "metadata": {
  "kernelspec": {
   "display_name": "Python 3 (ipykernel)",
   "language": "python",
   "name": "python3"
  },
  "language_info": {
   "codemirror_mode": {
    "name": "ipython",
    "version": 3
   },
   "file_extension": ".py",
   "mimetype": "text/x-python",
   "name": "python",
   "nbconvert_exporter": "python",
   "pygments_lexer": "ipython3",
   "version": "3.10.6"
  },
  "toc": {
   "base_numbering": 1,
   "nav_menu": {},
   "number_sections": true,
   "sideBar": true,
   "skip_h1_title": false,
   "title_cell": "Table of Contents",
   "title_sidebar": "Contents",
   "toc_cell": false,
   "toc_position": {},
   "toc_section_display": true,
   "toc_window_display": false
  }
 },
 "nbformat": 4,
 "nbformat_minor": 5
}
