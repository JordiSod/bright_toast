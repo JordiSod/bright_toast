{
 "cells": [
  {
   "cell_type": "code",
   "execution_count": 1,
   "id": "07239495",
   "metadata": {},
   "outputs": [],
   "source": [
    "import pandas as pd\n",
    "import numpy as np\n",
    "import string\n",
    "from matplotlib import pyplot as plt\n",
    "import nltk\n",
    "\n",
    "import gensim.downloader"
   ]
  },
  {
   "cell_type": "code",
   "execution_count": 2,
   "id": "6ba24ff5",
   "metadata": {},
   "outputs": [],
   "source": [
    "df = pd.read_json('winemag-data-130k-v2.json')"
   ]
  },
  {
   "cell_type": "code",
   "execution_count": 3,
   "id": "e9faee25",
   "metadata": {},
   "outputs": [],
   "source": [
    "data = df.copy()"
   ]
  },
  {
   "cell_type": "code",
   "execution_count": 4,
   "id": "68adece1",
   "metadata": {},
   "outputs": [],
   "source": [
    "def basic_cleaning(sentence):\n",
    "    sentence = sentence.lower()\n",
    "    sentence = ''.join(char for char in sentence if not char.isdigit())\n",
    "    \n",
    "    for punctuation in string.punctuation:\n",
    "        sentence = sentence.replace(punctuation, '') \n",
    "    \n",
    "    sentence = sentence.strip()\n",
    "    \n",
    "    return sentence"
   ]
  },
  {
   "cell_type": "code",
   "execution_count": 5,
   "id": "0cfe43f1",
   "metadata": {},
   "outputs": [],
   "source": [
    "# YOUR CODE HERE\n",
    "from nltk.tokenize import word_tokenize\n",
    "from nltk.corpus import stopwords \n",
    "\n",
    "stop_words = set(stopwords.words('english'))\n",
    "\n",
    "def stop_word_remover(text):\n",
    "    tokens = word_tokenize(text)\n",
    "    tokens_cleaned = [w for w in tokens if not w in stop_words] \n",
    "    text = ' '.join(word for word in tokens_cleaned)\n",
    "    return text\n"
   ]
  },
  {
   "cell_type": "code",
   "execution_count": 6,
   "id": "9238e29b",
   "metadata": {},
   "outputs": [],
   "source": [
    "data['description_clean'] = data['description']\n",
    "data['description_clean'] = data['description_clean'].apply(lambda text: basic_cleaning(text))"
   ]
  },
  {
   "cell_type": "code",
   "execution_count": 7,
   "id": "79ee52b9",
   "metadata": {},
   "outputs": [],
   "source": [
    "data['description_clean'] = data['description_clean'].apply(lambda text: stop_word_remover(text))"
   ]
  },
  {
   "cell_type": "code",
   "execution_count": 8,
   "id": "213c0128",
   "metadata": {},
   "outputs": [],
   "source": [
    "data['description_clean_tokenize'] = data['description_clean'].apply(lambda text: list(set(word_tokenize(text))))"
   ]
  },
  {
   "cell_type": "code",
   "execution_count": 9,
   "id": "a80b092d",
   "metadata": {},
   "outputs": [],
   "source": [
    "lsttoken = data['description_clean_tokenize'].to_list()"
   ]
  },
  {
   "cell_type": "code",
   "execution_count": 10,
   "id": "c4269ca4",
   "metadata": {},
   "outputs": [],
   "source": [
    "def flatten_list(_2d_list):\n",
    "    flat_list = []\n",
    "    # Iterate through the outer list\n",
    "    for element in _2d_list:\n",
    "        if type(element) is list:\n",
    "            # If the element is of type list, iterate through the sublist\n",
    "            for item in element:\n",
    "                flat_list.append(item)\n",
    "        else:\n",
    "            flat_list.append(element)\n",
    "    return flat_list"
   ]
  },
  {
   "cell_type": "code",
   "execution_count": 11,
   "id": "a4129723",
   "metadata": {},
   "outputs": [],
   "source": [
    "finallist = flatten_list(lsttoken)"
   ]
  },
  {
   "cell_type": "code",
   "execution_count": 12,
   "id": "02829a21",
   "metadata": {},
   "outputs": [],
   "source": [
    "finalset = set(finallist)"
   ]
  },
  {
   "cell_type": "code",
   "execution_count": 14,
   "id": "d09e5296",
   "metadata": {},
   "outputs": [
    {
     "name": "stdout",
     "output_type": "stream",
     "text": [
      "['fasttext-wiki-news-subwords-300', 'conceptnet-numberbatch-17-06-300', 'word2vec-ruscorpora-300', 'word2vec-google-news-300', 'glove-wiki-gigaword-50', 'glove-wiki-gigaword-100', 'glove-wiki-gigaword-200', 'glove-wiki-gigaword-300', 'glove-twitter-25', 'glove-twitter-50', 'glove-twitter-100', 'glove-twitter-200', '__testing_word2vec-matrix-synopsis']\n"
     ]
    }
   ],
   "source": [
    "print(list(gensim.downloader.info()['models'].keys()))"
   ]
  },
  {
   "cell_type": "code",
   "execution_count": 15,
   "id": "b8b720d3",
   "metadata": {},
   "outputs": [],
   "source": [
    "model_wiki = gensim.downloader.load('glove-wiki-gigaword-100')"
   ]
  },
  {
   "cell_type": "code",
   "execution_count": 16,
   "id": "e7ed4bf8",
   "metadata": {},
   "outputs": [],
   "source": [
    "def toptenwords(word):\n",
    "    similarwords = model_wiki.most_similar(word, topn=10)\n",
    "    toptenwords=[]\n",
    "    for i in similarwords:\n",
    "        toptenwords.append(i[0])\n",
    "    return toptenwords\n"
   ]
  },
  {
   "cell_type": "code",
   "execution_count": 17,
   "id": "50c24814",
   "metadata": {},
   "outputs": [],
   "source": [
    "def wordle(words,wordset):\n",
    "    for word in words:\n",
    "        if word in wordset:\n",
    "            return word\n",
    "    return \"\""
   ]
  },
  {
   "cell_type": "code",
   "execution_count": 18,
   "id": "a57b9263",
   "metadata": {},
   "outputs": [
    {
     "data": {
      "text/plain": [
       "['japanese',\n",
       " 'korea',\n",
       " 'tokyo',\n",
       " 'china',\n",
       " 'indonesia',\n",
       " 'russia',\n",
       " 'asia',\n",
       " 'thailand',\n",
       " 'taiwan',\n",
       " 'germany']"
      ]
     },
     "execution_count": 18,
     "metadata": {},
     "output_type": "execute_result"
    }
   ],
   "source": [
    "mytop10 = toptenwords('japan')\n",
    "mytop10"
   ]
  },
  {
   "cell_type": "code",
   "execution_count": 19,
   "id": "957f03d3",
   "metadata": {},
   "outputs": [
    {
     "data": {
      "text/plain": [
       "'japanese'"
      ]
     },
     "execution_count": 19,
     "metadata": {},
     "output_type": "execute_result"
    }
   ],
   "source": [
    "wordle(mytop10, finalset)"
   ]
  },
  {
   "cell_type": "code",
   "execution_count": 23,
   "id": "bdb2f73c",
   "metadata": {},
   "outputs": [
    {
     "data": {
      "text/plain": [
       "['apricot',\n",
       " 'peach',\n",
       " 'cranberry',\n",
       " 'caramel',\n",
       " 'sorbet',\n",
       " 'blueberry',\n",
       " 'cherry',\n",
       " 'pear',\n",
       " 'mousse',\n",
       " 'plum']"
      ]
     },
     "execution_count": 23,
     "metadata": {},
     "output_type": "execute_result"
    }
   ],
   "source": [
    "mytop10 = toptenwords('raspberry')\n",
    "mytop10"
   ]
  },
  {
   "cell_type": "code",
   "execution_count": 21,
   "id": "fb22d8e2",
   "metadata": {},
   "outputs": [
    {
     "data": {
      "text/plain": [
       "'japanese'"
      ]
     },
     "execution_count": 21,
     "metadata": {},
     "output_type": "execute_result"
    }
   ],
   "source": [
    "wordle(mytop10, finalset)"
   ]
  },
  {
   "cell_type": "code",
   "execution_count": 24,
   "id": "c15dd359",
   "metadata": {},
   "outputs": [
    {
     "data": {
      "text/plain": [
       "'apricot'"
      ]
     },
     "execution_count": 24,
     "metadata": {},
     "output_type": "execute_result"
    }
   ],
   "source": [
    "wordle(mytop10, finalset)"
   ]
  },
  {
   "cell_type": "code",
   "execution_count": null,
   "id": "02a9eed0",
   "metadata": {},
   "outputs": [],
   "source": []
  }
 ],
 "metadata": {
  "kernelspec": {
   "display_name": "Python 3 (ipykernel)",
   "language": "python",
   "name": "python3"
  },
  "language_info": {
   "codemirror_mode": {
    "name": "ipython",
    "version": 3
   },
   "file_extension": ".py",
   "mimetype": "text/x-python",
   "name": "python",
   "nbconvert_exporter": "python",
   "pygments_lexer": "ipython3",
   "version": "3.10.6"
  },
  "toc": {
   "base_numbering": 1,
   "nav_menu": {},
   "number_sections": true,
   "sideBar": true,
   "skip_h1_title": false,
   "title_cell": "Table of Contents",
   "title_sidebar": "Contents",
   "toc_cell": false,
   "toc_position": {},
   "toc_section_display": true,
   "toc_window_display": false
  }
 },
 "nbformat": 4,
 "nbformat_minor": 5
}
