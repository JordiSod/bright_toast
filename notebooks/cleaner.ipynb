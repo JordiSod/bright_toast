{
 "cells": [
  {
   "cell_type": "code",
   "execution_count": 28,
   "id": "a7917c09",
   "metadata": {},
   "outputs": [],
   "source": [
    "import pandas ahttp://localhost:8888/notebooks/Untitled.ipynb#s pd\n",
    "import numpy as np\n",
    "from matplotlib import pyplot as plt"
   ]
  },
  {
   "cell_type": "code",
   "execution_count": 23,
   "id": "36919e70",
   "metadata": {},
   "outputs": [],
   "source": [
    "df = pd.read_json('winemag-data-130k-v2.json')"
   ]
  },
  {
   "cell_type": "code",
   "execution_count": 25,
   "id": "864c14da",
   "metadata": {},
   "outputs": [
    {
     "data": {
      "text/plain": [
       "Index(['points', 'title', 'description', 'taster_name',\n",
       "       'taster_twitter_handle', 'price', 'designation', 'variety', 'region_1',\n",
       "       'region_2', 'province', 'country', 'winery'],\n",
       "      dtype='object')"
      ]
     },
     "execution_count": 25,
     "metadata": {},
     "output_type": "execute_result"
    }
   ],
   "source": [
    "df.columns"
   ]
  },
  {
   "cell_type": "code",
   "execution_count": 26,
   "id": "f6d21879",
   "metadata": {},
   "outputs": [
    {
     "data": {
      "text/plain": [
       "(129971, 13)"
      ]
     },
     "execution_count": 26,
     "metadata": {},
     "output_type": "execute_result"
    }
   ],
   "source": [
    "df.shape"
   ]
  },
  {
   "cell_type": "code",
   "execution_count": 27,
   "id": "765e9ea8",
   "metadata": {},
   "outputs": [
    {
     "data": {
      "text/plain": [
       "points                       21\n",
       "title                    118840\n",
       "description              119955\n",
       "taster_name                  19\n",
       "taster_twitter_handle        15\n",
       "price                       390\n",
       "designation               37979\n",
       "variety                     707\n",
       "region_1                   1229\n",
       "region_2                     17\n",
       "province                    425\n",
       "country                      43\n",
       "winery                    16757\n",
       "dtype: int64"
      ]
     },
     "execution_count": 27,
     "metadata": {},
     "output_type": "execute_result"
    }
   ],
   "source": [
    "df.nunique()"
   ]
  },
  {
   "cell_type": "code",
   "execution_count": 29,
   "id": "0e57f1c3",
   "metadata": {},
   "outputs": [
    {
     "data": {
      "text/plain": [
       "(array([ 1089.,  4861., 16010., 29533., 29433., 26769., 16102.,  5293.,\n",
       "          752.,   129.]),\n",
       " array([ 80.,  82.,  84.,  86.,  88.,  90.,  92.,  94.,  96.,  98., 100.]),\n",
       " <BarContainer object of 10 artists>)"
      ]
     },
     "execution_count": 29,
     "metadata": {},
     "output_type": "execute_result"
    },
    {
     "data": {
      "image/png": "[encoded data removed]",
      "text/plain": [
       "<Figure size 640x480 with 1 Axes>"
      ]
     },
     "metadata": {},
     "output_type": "display_data"
    }
   ],
   "source": [
    "plt.hist(df['points'])"
   ]
  },
  {
   "cell_type": "code",
   "execution_count": 30,
   "id": "f3804578",
   "metadata": {},
   "outputs": [
    {
     "data": {
      "text/html": [
       "<div>\n",
       "<style scoped>\n",
       "    .dataframe tbody tr th:only-of-type {\n",
       "        vertical-align: middle;\n",
       "    }\n",
       "\n",
       "    .dataframe tbody tr th {\n",
       "        vertical-align: top;\n",
       "    }\n",
       "\n",
       "    .dataframe thead th {\n",
       "        text-align: right;\n",
       "    }\n",
       "</style>\n",
       "<table border=\"1\" class=\"dataframe\">\n",
       "  <thead>\n",
       "    <tr style=\"text-align: right;\">\n",
       "      <th></th>\n",
       "      <th>points</th>\n",
       "      <th>price</th>\n",
       "    </tr>\n",
       "  </thead>\n",
       "  <tbody>\n",
       "    <tr>\n",
       "      <th>count</th>\n",
       "      <td>129971.000000</td>\n",
       "      <td>120975.000000</td>\n",
       "    </tr>\n",
       "    <tr>\n",
       "      <th>mean</th>\n",
       "      <td>88.447138</td>\n",
       "      <td>35.363389</td>\n",
       "    </tr>\n",
       "    <tr>\n",
       "      <th>std</th>\n",
       "      <td>3.039730</td>\n",
       "      <td>41.022218</td>\n",
       "    </tr>\n",
       "    <tr>\n",
       "      <th>min</th>\n",
       "      <td>80.000000</td>\n",
       "      <td>4.000000</td>\n",
       "    </tr>\n",
       "    <tr>\n",
       "      <th>25%</th>\n",
       "      <td>86.000000</td>\n",
       "      <td>17.000000</td>\n",
       "    </tr>\n",
       "    <tr>\n",
       "      <th>50%</th>\n",
       "      <td>88.000000</td>\n",
       "      <td>25.000000</td>\n",
       "    </tr>\n",
       "    <tr>\n",
       "      <th>75%</th>\n",
       "      <td>91.000000</td>\n",
       "      <td>42.000000</td>\n",
       "    </tr>\n",
       "    <tr>\n",
       "      <th>max</th>\n",
       "      <td>100.000000</td>\n",
       "      <td>3300.000000</td>\n",
       "    </tr>\n",
       "  </tbody>\n",
       "</table>\n",
       "</div>"
      ],
      "text/plain": [
       "              points          price\n",
       "count  129971.000000  120975.000000\n",
       "mean       88.447138      35.363389\n",
       "std         3.039730      41.022218\n",
       "min        80.000000       4.000000\n",
       "25%        86.000000      17.000000\n",
       "50%        88.000000      25.000000\n",
       "75%        91.000000      42.000000\n",
       "max       100.000000    3300.000000"
      ]
     },
     "execution_count": 30,
     "metadata": {},
     "output_type": "execute_result"
    }
   ],
   "source": [
    "df.describe()"
   ]
  },
  {
   "cell_type": "code",
   "execution_count": 31,
   "id": "0a24f486",
   "metadata": {},
   "outputs": [
    {
     "data": {
      "text/plain": [
       "37980"
      ]
     },
     "execution_count": 31,
     "metadata": {},
     "output_type": "execute_result"
    }
   ],
   "source": [
    "len(df.designation.unique())"
   ]
  },
  {
   "cell_type": "code",
   "execution_count": 32,
   "id": "e956828a",
   "metadata": {},
   "outputs": [
    {
     "data": {
      "text/plain": [
       "points                       0\n",
       "title                        0\n",
       "description                  0\n",
       "taster_name              26244\n",
       "taster_twitter_handle    31213\n",
       "price                     8996\n",
       "designation              37465\n",
       "variety                      1\n",
       "region_1                 21247\n",
       "region_2                 79460\n",
       "province                    63\n",
       "country                     63\n",
       "winery                       0\n",
       "dtype: int64"
      ]
     },
     "execution_count": 32,
     "metadata": {},
     "output_type": "execute_result"
    }
   ],
   "source": [
    "df.isnull().sum()"
   ]
  },
  {
   "cell_type": "code",
   "execution_count": 44,
   "id": "87888788",
   "metadata": {},
   "outputs": [],
   "source": [
    "# Let us work on stripping the titles of irrelevant information"
   ]
  },
  {
   "cell_type": "code",
   "execution_count": 45,
   "id": "8e692ae5",
   "metadata": {},
   "outputs": [],
   "source": [
    "#first, let's download the data again, just to concentrate on this!"
   ]
  },
  {
   "cell_type": "code",
   "execution_count": 49,
   "id": "19388e74",
   "metadata": {},
   "outputs": [],
   "source": [
    "df = df.drop_duplicates()"
   ]
  },
  {
   "cell_type": "code",
   "execution_count": 80,
   "id": "e09cb45a",
   "metadata": {},
   "outputs": [],
   "source": [
    "data = df.copy()"
   ]
  },
  {
   "cell_type": "code",
   "execution_count": 74,
   "id": "9b579da6",
   "metadata": {},
   "outputs": [
    {
     "data": {
      "text/plain": [
       "'!\"#$%&\\'()*+,-./:;<=>?@[\\\\]^_`{|}~'"
      ]
     },
     "execution_count": 74,
     "metadata": {},
     "output_type": "execute_result"
    }
   ],
   "source": [
    "import string # \"string\" module is already installed with Python\n",
    "string.punctuation\n"
   ]
  },
  {
   "cell_type": "code",
   "execution_count": 76,
   "id": "b0e2d95e",
   "metadata": {},
   "outputs": [
    {
     "name": "stderr",
     "output_type": "stream",
     "text": [
      "/tmp/ipykernel_13308/4280249096.py:1: FutureWarning: The default value of regex will change from True to False in a future version.\n",
      "  data['description_clean'] = data['description_clean'].str.replace('[^\\w\\s]','')\n"
     ]
    }
   ],
   "source": [
    "        \n",
    "data['description_clean'] = data['description_clean'].str.replace('[^\\w\\s]','')"
   ]
  },
  {
   "cell_type": "code",
   "execution_count": 77,
   "id": "42c4990d",
   "metadata": {},
   "outputs": [
    {
     "data": {
      "text/plain": [
       "0         Aromas include tropical fruit broom brimstone ...\n",
       "1         This is ripe and fruity a wine that is smooth ...\n",
       "2         Tart and snappy the flavors of lime flesh and ...\n",
       "3         Pineapple rind lemon pith and orange blossom s...\n",
       "4         Much like the regular bottling from  this come...\n",
       "                                ...                        \n",
       "129966    Notes of honeysuckle and cantaloupe sweeten th...\n",
       "129967    Citation is given as much as a decade of bottl...\n",
       "129968    Welldrained gravel soil gives this wine its cr...\n",
       "129969    A dry style of Pinot Gris this is crisp with s...\n",
       "129970    Big rich and offdry this is powered by intense...\n",
       "Name: description_clean, Length: 119988, dtype: object"
      ]
     },
     "execution_count": 77,
     "metadata": {},
     "output_type": "execute_result"
    }
   ],
   "source": [
    "data['description_clean']"
   ]
  },
  {
   "cell_type": "code",
   "execution_count": 81,
   "id": "76b29f02",
   "metadata": {},
   "outputs": [],
   "source": [
    "def basic_cleaning(sentence):\n",
    "    sentence = sentence.lower()\n",
    "    sentence = ''.join(char for char in sentence if not char.isdigit())\n",
    "    \n",
    "    for punctuation in string.punctuation:\n",
    "        sentence = sentence.replace(punctuation, '') \n",
    "    \n",
    "    sentence = sentence.strip()\n",
    "    \n",
    "    return sentence"
   ]
  },
  {
   "cell_type": "code",
   "execution_count": 82,
   "id": "ea1ac7bb",
   "metadata": {},
   "outputs": [],
   "source": [
    "data['description_clean'] = data['description']\n",
    "data['description_clean'] = data['description_clean'].apply(lambda text: basic_cleaning(text))"
   ]
  },
  {
   "cell_type": "code",
   "execution_count": 83,
   "id": "ccc5e994",
   "metadata": {},
   "outputs": [
    {
     "data": {
      "text/plain": [
       "0         aromas include tropical fruit broom brimstone ...\n",
       "1         this is ripe and fruity a wine that is smooth ...\n",
       "2         tart and snappy the flavors of lime flesh and ...\n",
       "3         pineapple rind lemon pith and orange blossom s...\n",
       "4         much like the regular bottling from  this come...\n",
       "                                ...                        \n",
       "129966    notes of honeysuckle and cantaloupe sweeten th...\n",
       "129967    citation is given as much as a decade of bottl...\n",
       "129968    welldrained gravel soil gives this wine its cr...\n",
       "129969    a dry style of pinot gris this is crisp with s...\n",
       "129970    big rich and offdry this is powered by intense...\n",
       "Name: description_clean, Length: 119988, dtype: object"
      ]
     },
     "execution_count": 83,
     "metadata": {},
     "output_type": "execute_result"
    }
   ],
   "source": [
    "data['description_clean']"
   ]
  },
  {
   "cell_type": "code",
   "execution_count": 84,
   "id": "fcb73c93",
   "metadata": {},
   "outputs": [],
   "source": [
    "# YOUR CODE HERE\n",
    "from nltk.tokenize import word_tokenize\n",
    "from nltk.corpus import stopwords \n",
    "\n",
    "stop_words = set(stopwords.words('english'))\n",
    "\n",
    "def stop_word_remover(text):\n",
    "    tokens = word_tokenize(text)\n",
    "    tokens_cleaned = [w for w in tokens if not w in stop_words] \n",
    "    text = ' '.join(word for word in tokens_cleaned)\n",
    "    return text\n"
   ]
  },
  {
   "cell_type": "code",
   "execution_count": 85,
   "id": "a978b06a",
   "metadata": {},
   "outputs": [],
   "source": [
    "data['description_clean'] = data['description_clean'].apply(lambda text: stop_word_remover(text))"
   ]
  },
  {
   "cell_type": "code",
   "execution_count": 86,
   "id": "284c0379",
   "metadata": {},
   "outputs": [
    {
     "data": {
      "text/plain": [
       "0         aromas include tropical fruit broom brimstone ...\n",
       "1         ripe fruity wine smooth still structured firm ...\n",
       "2         tart snappy flavors lime flesh rind dominate g...\n",
       "3         pineapple rind lemon pith orange blossom start...\n",
       "4         much like regular bottling comes across rather...\n",
       "                                ...                        \n",
       "129966    notes honeysuckle cantaloupe sweeten delicious...\n",
       "129967    citation given much decade bottle age prior re...\n",
       "129968    welldrained gravel soil gives wine crisp dry c...\n",
       "129969    dry style pinot gris crisp acidity also weight...\n",
       "129970    big rich offdry powered intense spiciness roun...\n",
       "Name: description_clean, Length: 119988, dtype: object"
      ]
     },
     "execution_count": 86,
     "metadata": {},
     "output_type": "execute_result"
    }
   ],
   "source": [
    "data['description_clean']"
   ]
  },
  {
   "cell_type": "code",
   "execution_count": 2,
   "id": "68fa94a0",
   "metadata": {},
   "outputs": [
    {
     "ename": "NameError",
     "evalue": "name 'data' is not defined",
     "output_type": "error",
     "traceback": [
      "\u001b[0;31m---------------------------------------------------------------------------\u001b[0m",
      "\u001b[0;31mNameError\u001b[0m                                 Traceback (most recent call last)",
      "Cell \u001b[0;32mIn [2], line 2\u001b[0m\n\u001b[1;32m      1\u001b[0m \u001b[38;5;66;03m# Lemmatize?\u001b[39;00m\n\u001b[0;32m----> 2\u001b[0m \u001b[43mdata\u001b[49m[\u001b[38;5;124m'\u001b[39m\u001b[38;5;124mwinery\u001b[39m\u001b[38;5;124m'\u001b[39m]\u001b[38;5;241m.\u001b[39munique()\n",
      "\u001b[0;31mNameError\u001b[0m: name 'data' is not defined"
     ]
    }
   ],
   "source": [
    "# Lemmatize?\n",
    "data['winery'].unique()"
   ]
  },
  {
   "cell_type": "code",
   "execution_count": 3,
   "id": "fd419bf0",
   "metadata": {},
   "outputs": [
    {
     "ename": "NameError",
     "evalue": "name 'data' is not defined",
     "output_type": "error",
     "traceback": [
      "\u001b[0;31m---------------------------------------------------------------------------\u001b[0m",
      "\u001b[0;31mNameError\u001b[0m                                 Traceback (most recent call last)",
      "Cell \u001b[0;32mIn [3], line 1\u001b[0m\n\u001b[0;32m----> 1\u001b[0m \u001b[43mdata\u001b[49m\u001b[38;5;241m.\u001b[39mcolumns()\n",
      "\u001b[0;31mNameError\u001b[0m: name 'data' is not defined"
     ]
    }
   ],
   "source": [
    "data.columns()"
   ]
  },
  {
   "cell_type": "code",
   "execution_count": null,
   "id": "55890e79",
   "metadata": {},
   "outputs": [],
   "source": []
  }
 ],
 "metadata": {
  "kernelspec": {
   "display_name": "Python 3 (ipykernel)",
   "language": "python",
   "name": "python3"
  },
  "language_info": {
   "codemirror_mode": {
    "name": "ipython",
    "version": 3
   },
   "file_extension": ".py",
   "mimetype": "text/x-python",
   "name": "python",
   "nbconvert_exporter": "python",
   "pygments_lexer": "ipython3",
   "version": "3.10.6"
  },
  "toc": {
   "base_numbering": 1,
   "nav_menu": {},
   "number_sections": true,
   "sideBar": true,
   "skip_h1_title": false,
   "title_cell": "Table of Contents",
   "title_sidebar": "Contents",
   "toc_cell": false,
   "toc_position": {},
   "toc_section_display": true,
   "toc_window_display": false
  }
 },
 "nbformat": 4,
 "nbformat_minor": 5
}
