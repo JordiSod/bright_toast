{
 "cells": [
  {
   "cell_type": "code",
   "execution_count": 1,
   "id": "ad28974c",
   "metadata": {},
   "outputs": [],
   "source": [
    "import pickle\n",
    "import pandas as pd\n",
    "import numpy as np"
   ]
  },
  {
   "cell_type": "code",
   "execution_count": 2,
   "id": "76cc829d",
   "metadata": {},
   "outputs": [],
   "source": [
    "file = open('wine_reviews_mincount', 'rb')\n",
    "wine_reviews_mincount = pickle.load(file)\n",
    "file.close()"
   ]
  },
  {
   "cell_type": "code",
   "execution_count": 3,
   "id": "f5fb358e",
   "metadata": {},
   "outputs": [],
   "source": [
    "wine_reviews_mincount.region_1.fillna(\"\",inplace=True)"
   ]
  },
  {
   "cell_type": "code",
   "execution_count": 5,
   "id": "192ee7ea",
   "metadata": {},
   "outputs": [
    {
     "data": {
      "text/plain": [
       "0"
      ]
     },
     "execution_count": 5,
     "metadata": {},
     "output_type": "execute_result"
    }
   ],
   "source": [
    "wine_reviews_mincount.region_1.isna().sum()"
   ]
  },
  {
   "cell_type": "code",
   "execution_count": 7,
   "id": "0d5b62b6",
   "metadata": {},
   "outputs": [],
   "source": [
    "# open a file, where you ant to store the data\n",
    "file = open('wine_reviews_mincount', 'wb')\n",
    "\n",
    "# dump information to that file\n",
    "pickle.dump(wine_reviews_mincount, file)\n",
    "\n",
    "# close the file\n",
    "file.close()"
   ]
  },
  {
   "cell_type": "code",
   "execution_count": 8,
   "id": "4b2879ec",
   "metadata": {},
   "outputs": [],
   "source": [
    "import requests"
   ]
  },
  {
   "cell_type": "code",
   "execution_count": 10,
   "id": "b3de9ff5",
   "metadata": {},
   "outputs": [],
   "source": [
    "response = requests.get(\"http://localhost:8000/predict?descriptors=dry_tropical_pineapple&countries=France&provinces=all&regions=all&varieties=all&wineries=all&min_price=10&max_price=80\")"
   ]
  },
  {
   "cell_type": "code",
   "execution_count": 13,
   "id": "f2920271",
   "metadata": {},
   "outputs": [
    {
     "data": {
      "text/plain": [
       "b'{\"suggestions\":{\"1\":{\"country\":\"France\",\"points\":90,\"price\":20.0,\"province\":\"Alsace\",\"region_1\":\"Alsace\",\"title\":\"Domaine Sipp-Mack 2015 Tradition Riesling (Alsace)\",\"variety\":\"Riesling\",\"winery\":\"Domaine Sipp-Mack\",\"wine_descriptors\":[\"tropical_fruit\",\"pineapple\",\"dry\",\"tangerine\",\"ripe\",\"lemon\",\"dry\",\"refreshing\"]},\"2\":{\"country\":\"France\",\"points\":89,\"price\":14.0,\"province\":\"Rh\\xc3\\xb4ne Valley\",\"region_1\":\"C\\xc3\\xb4tes du Rh\\xc3\\xb4ne\",\"title\":\"Vidal-Fleury 2013 White (C\\xc3\\xb4tes du Rh\\xc3\\xb4ne)\",\"variety\":\"Rh\\xc3\\xb4ne-style White Blend\",\"winery\":\"Vidal-Fleury\",\"wine_descriptors\":[\"honey\",\"pineapple\",\"fresh\",\"herb\",\"melon\",\"pineapple\",\"medium_bodied\",\"citrus\"]},\"3\":{\"country\":\"France\",\"points\":93,\"price\":24.0,\"province\":\"Southwest France\",\"region_1\":\"Pacherenc du Vic Bilh\",\"title\":\"Famille Laplace 2014 Ch\\xc3\\xa2teau d\\'Aydie  (Pacherenc du Vic Bilh)\",\"variety\":\"Petit Manseng\",\"winery\":\"Famille Laplace\",\"wine_descriptors\":[\"ripe\",\"sweet\",\"ripe\",\"pineapple\",\"peach\",\"honey\",\"dry\",\"edgy\"]},\"4\":{\"country\":\"France\",\"points\":86,\"price\":27.0,\"province\":\"Alsace\",\"region_1\":\"Alsace\",\"title\":\"Dopff & Irion 2006 Domaines du Ch\\xc3\\xa2teau de Riquewihr Les Sorci\\xc3\\xa8res Gewurztraminer (Alsace)\",\"variety\":\"Gew\\xc3\\xbcrztraminer\",\"winery\":\"Dopff & Irion\",\"wine_descriptors\":[\"dry\",\"light_bodied\",\"elegant\",\"peach\",\"lemon\",\"pineapple\"]},\"5\":{\"country\":\"France\",\"points\":87,\"price\":14.0,\"province\":\"France Other\",\"region_1\":\"Vin de France\",\"title\":\"Famille Laplace 2015 Aramis Petit Manseng-Sauvignon White (Vin de France)\",\"variety\":\"White Blend\",\"winery\":\"Famille Laplace\",\"wine_descriptors\":[\"dry\",\"soft\",\"pineapple\",\"lemon\",\"fruit\",\"crisp\",\"dry\",\"apricot\",\"crisp\"]},\"6\":{\"country\":\"France\",\"points\":89,\"price\":15.0,\"province\":\"Rh\\xc3\\xb4ne Valley\",\"region_1\":\"C\\xc3\\xb4tes du Rh\\xc3\\xb4ne\",\"title\":\"Jean Berteau 2014 Reserve White (C\\xc3\\xb4tes du Rh\\xc3\\xb4ne)\",\"variety\":\"Rh\\xc3\\xb4ne-style White Blend\",\"winery\":\"Jean Berteau\",\"wine_descriptors\":[\"plump\",\"white\",\"pineapple\",\"toasted_almond\",\"fruit\",\"pineapple\",\"melon\"]},\"7\":{\"country\":\"France\",\"points\":92,\"price\":26.0,\"province\":\"Loire Valley\",\"region_1\":\"Sancerre\",\"title\":\"Roger et Didier Raimbault 2008 Vieilles Vignes  (Sancerre)\",\"variety\":\"Sauvignon Blanc\",\"winery\":\"Roger et Didier Raimbault\",\"wine_descriptors\":[\"currant\",\"tropical_fruit\",\"fruit\",\"ripe\",\"nectarine\",\"fruit\",\"fresh\",\"pineapple\",\"concentrated\"]},\"8\":{\"country\":\"France\",\"points\":88,\"price\":23.0,\"province\":\"Alsace\",\"region_1\":\"Alsace\",\"title\":\"Gustave Lorentz 2015 R\\xc3\\xa9serve Pinot Gris (Alsace)\",\"variety\":\"Pinot Gris\",\"winery\":\"Gustave Lorentz\",\"wine_descriptors\":[\"pineapple\",\"ripe\",\"pear\",\"fruit\",\"tropical_fruit\",\"hot\",\"fruit\",\"fresh\",\"dry\"]},\"9\":{\"country\":\"France\",\"points\":88,\"price\":23.0,\"province\":\"Alsace\",\"region_1\":\"Alsace\",\"title\":\"Gustave Lorentz 2015 R\\xc3\\xa9serve Pinot Gris (Alsace)\",\"variety\":\"Pinot Gris\",\"winery\":\"Gustave Lorentz\",\"wine_descriptors\":[\"pineapple\",\"ripe\",\"pear\",\"fruit\",\"tropical_fruit\",\"hot\",\"fruit\",\"fresh\",\"dry\"]},\"10\":{\"country\":\"France\",\"points\":86,\"price\":17.0,\"province\":\"Burgundy\",\"region_1\":\"M\\xc3\\xa2con-Villages\",\"title\":\"Bouchard A\\xc3\\xaen\\xc3\\xa9 & Fils 2012  M\\xc3\\xa2con-Villages\",\"variety\":\"Chardonnay\",\"winery\":\"Bouchard A\\xc3\\xaen\\xc3\\xa9 & Fils\",\"wine_descriptors\":[\"ripe\",\"tropical_fruit\",\"fruit\",\"pineapple\",\"apricot\",\"fresh\",\"lime\",\"round\"]}}}'"
      ]
     },
     "execution_count": 13,
     "metadata": {},
     "output_type": "execute_result"
    }
   ],
   "source": [
    "response.content"
   ]
  },
  {
   "cell_type": "code",
   "execution_count": 14,
   "id": "b7aea206",
   "metadata": {},
   "outputs": [],
   "source": [
    "descriptor_mapping = pd.read_csv('descriptor_mapping.csv').set_index('raw descriptor')"
   ]
  },
  {
   "cell_type": "code",
   "execution_count": 16,
   "id": "789d6f59",
   "metadata": {},
   "outputs": [
    {
     "data": {
      "text/plain": [
       "raw descriptor\n",
       "abras               abrasive\n",
       "acacia                acacia\n",
       "acacia_flower         acacia\n",
       "aciddriven       acid_driven\n",
       "aggress           aggressive\n",
       "                    ...     \n",
       "zest                    zest\n",
       "zesti                  zesty\n",
       "zing                   zingy\n",
       "zingi                  zingy\n",
       "zippi                  zippy\n",
       "Name: level_3, Length: 1015, dtype: object"
      ]
     },
     "execution_count": 16,
     "metadata": {},
     "output_type": "execute_result"
    }
   ],
   "source": [
    "descriptor_mapping.level_3"
   ]
  },
  {
   "cell_type": "code",
   "execution_count": null,
   "id": "db3be723",
   "metadata": {},
   "outputs": [],
   "source": []
  }
 ],
 "metadata": {
  "kernelspec": {
   "display_name": "Python 3 (ipykernel)",
   "language": "python",
   "name": "python3"
  },
  "language_info": {
   "codemirror_mode": {
    "name": "ipython",
    "version": 3
   },
   "file_extension": ".py",
   "mimetype": "text/x-python",
   "name": "python",
   "nbconvert_exporter": "python",
   "pygments_lexer": "ipython3",
   "version": "3.10.6"
  },
  "toc": {
   "base_numbering": 1,
   "nav_menu": {},
   "number_sections": true,
   "sideBar": true,
   "skip_h1_title": false,
   "title_cell": "Table of Contents",
   "title_sidebar": "Contents",
   "toc_cell": false,
   "toc_position": {},
   "toc_section_display": true,
   "toc_window_display": false
  }
 },
 "nbformat": 4,
 "nbformat_minor": 5
}
